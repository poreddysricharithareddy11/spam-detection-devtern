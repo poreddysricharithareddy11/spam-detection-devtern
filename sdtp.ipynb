{
  "nbformat": 4,
  "nbformat_minor": 0,
  "metadata": {
    "colab": {
      "provenance": []
    },
    "kernelspec": {
      "name": "python3",
      "display_name": "Python 3"
    },
    "language_info": {
      "name": "python"
    }
  },
  "cells": [
    {
      "cell_type": "markdown",
      "source": [
        "## **Spam** **Detection Using** **TensorFlow in Python** **bold text**\n",
        "# import the required pakages"
      ],
      "metadata": {
        "id": "tvV0U57CSI_h"
      }
    },
    {
      "cell_type": "code",
      "execution_count": 1,
      "metadata": {
        "id": "mtP6kknSRlaV"
      },
      "outputs": [],
      "source": [
        "import pandas as pd\n",
        "from sklearn.model_selection import train_test_split\n",
        "from sklearn.feature_extraction.text import TfidfVectorizer\n",
        "from sklearn.preprocessing import LabelEncoder\n",
        "from sklearn.metrics import accuracy_score, confusion_matrix, classification_report\n",
        "import tensorflow as tf\n",
        "import warnings"
      ]
    },
    {
      "cell_type": "markdown",
      "source": [
        "# Load the dataset"
      ],
      "metadata": {
        "id": "qHOYC4QrTdNm"
      }
    },
    {
      "cell_type": "code",
      "source": [
        "data = pd.read_csv(r\"/content/spam_ham_dataset.csv\", encoding='latin-1')"
      ],
      "metadata": {
        "id": "SJg6DVZxTNdU"
      },
      "execution_count": 3,
      "outputs": []
    },
    {
      "cell_type": "markdown",
      "source": [
        "# Handling missing values"
      ],
      "metadata": {
        "id": "gFOVgUQtT3-I"
      }
    },
    {
      "cell_type": "code",
      "source": [
        "data.fillna(method='ffill', inplace=True)"
      ],
      "metadata": {
        "id": "K6e-cLXqTNro"
      },
      "execution_count": 4,
      "outputs": []
    },
    {
      "cell_type": "code",
      "source": [
        "print(data.columns)"
      ],
      "metadata": {
        "id": "pQH-IFl-U6Yx",
        "colab": {
          "base_uri": "https://localhost:8080/"
        },
        "outputId": "55fdb7c0-0151-4603-95f0-eaf5b1a813ed"
      },
      "execution_count": 5,
      "outputs": [
        {
          "output_type": "stream",
          "name": "stdout",
          "text": [
            "Index(['Unnamed: 0', 'label', 'text', 'label_num'], dtype='object')\n"
          ]
        }
      ]
    },
    {
      "cell_type": "code",
      "source": [
        "data = data[['label', 'text']]"
      ],
      "metadata": {
        "id": "trprXaymT9vk"
      },
      "execution_count": 6,
      "outputs": []
    },
    {
      "cell_type": "code",
      "source": [
        "label_encoder = LabelEncoder()"
      ],
      "metadata": {
        "id": "FxM-ILA3T9yI"
      },
      "execution_count": 7,
      "outputs": []
    },
    {
      "cell_type": "code",
      "source": [
        "data['label'] = label_encoder.fit_transform(data['label'])"
      ],
      "metadata": {
        "id": "C0dymqVST90h"
      },
      "execution_count": 8,
      "outputs": []
    },
    {
      "cell_type": "code",
      "source": [
        "label_encoder = LabelEncoder()"
      ],
      "metadata": {
        "id": "Ry68s0MIT923"
      },
      "execution_count": 9,
      "outputs": []
    },
    {
      "cell_type": "code",
      "source": [
        "data['label'] = label_encoder.fit_transform(data['label'])"
      ],
      "metadata": {
        "id": "MvUC_0lgWsks"
      },
      "execution_count": 10,
      "outputs": []
    },
    {
      "cell_type": "code",
      "source": [
        "X_train, X_test, y_train, y_test = train_test_split(data['text'], data['label'], test_size=0.2, random_state=42)"
      ],
      "metadata": {
        "id": "4W4Lg2l4Wsmr"
      },
      "execution_count": 11,
      "outputs": []
    },
    {
      "cell_type": "code",
      "source": [
        "X_train = X_train.astype(str)"
      ],
      "metadata": {
        "id": "3ri8up-xT95U"
      },
      "execution_count": 12,
      "outputs": []
    },
    {
      "cell_type": "code",
      "source": [
        "X_test = X_test.astype(str)"
      ],
      "metadata": {
        "id": "t4rUsRy2T98R"
      },
      "execution_count": 13,
      "outputs": []
    },
    {
      "cell_type": "markdown",
      "source": [
        "# Vectorize the text data"
      ],
      "metadata": {
        "id": "0aVshJFcazEd"
      }
    },
    {
      "cell_type": "code",
      "source": [
        "vectorizer = TfidfVectorizer()"
      ],
      "metadata": {
        "id": "rNmtzRXsavEA"
      },
      "execution_count": 14,
      "outputs": []
    },
    {
      "cell_type": "code",
      "source": [
        "X_train = vectorizer.fit_transform(X_train)"
      ],
      "metadata": {
        "id": "C7YvLgacavGi"
      },
      "execution_count": 15,
      "outputs": []
    },
    {
      "cell_type": "code",
      "source": [
        "X_test = vectorizer.transform(X_test)"
      ],
      "metadata": {
        "id": "oE5Ay5q5avJa"
      },
      "execution_count": 16,
      "outputs": []
    },
    {
      "cell_type": "markdown",
      "source": [
        "## Build the TensorFlow model"
      ],
      "metadata": {
        "id": "6Wk_LDklbHQ9"
      }
    },
    {
      "cell_type": "code",
      "source": [
        "model = tf.keras.Sequential([\n",
        "    tf.keras.layers.Dense(128, activation='relu', input_shape=(X_train.shape[1],)),\n",
        "    tf.keras.layers.Dropout(0.5),\n",
        "    tf.keras.layers.Dense(64, activation='relu'),\n",
        "    tf.keras.layers.Dropout(0.5),\n",
        "    tf.keras.layers.Dense(1, activation='sigmoid')\n",
        "])"
      ],
      "metadata": {
        "id": "GPkdizlCavMO"
      },
      "execution_count": 17,
      "outputs": []
    },
    {
      "cell_type": "code",
      "source": [
        "model.compile(optimizer='adam', loss='binary_crossentropy', metrics=['accuracy'])"
      ],
      "metadata": {
        "id": "XaY32HkSavOw"
      },
      "execution_count": 18,
      "outputs": []
    },
    {
      "cell_type": "markdown",
      "source": [
        "# Train the model"
      ],
      "metadata": {
        "id": "lBqZab_1bVec"
      }
    },
    {
      "cell_type": "code",
      "source": [
        "history = model.fit(X_train.toarray(), y_train, epochs=15, batch_size=64, validation_data=(X_test.toarray(), y_test))"
      ],
      "metadata": {
        "colab": {
          "base_uri": "https://localhost:8080/"
        },
        "id": "edbMQHRDavRu",
        "outputId": "7271082b-b2dc-47aa-fa1b-8d0cc2a544b5"
      },
      "execution_count": 19,
      "outputs": [
        {
          "output_type": "stream",
          "name": "stdout",
          "text": [
            "Epoch 1/15\n",
            "65/65 [==============================] - 15s 214ms/step - loss: 0.4392 - accuracy: 0.7795 - val_loss: 0.1602 - val_accuracy: 0.9758\n",
            "Epoch 2/15\n",
            "65/65 [==============================] - 7s 112ms/step - loss: 0.0726 - accuracy: 0.9891 - val_loss: 0.0349 - val_accuracy: 0.9884\n",
            "Epoch 3/15\n",
            "65/65 [==============================] - 6s 96ms/step - loss: 0.0126 - accuracy: 0.9983 - val_loss: 0.0279 - val_accuracy: 0.9884\n",
            "Epoch 4/15\n",
            "65/65 [==============================] - 7s 114ms/step - loss: 0.0041 - accuracy: 0.9998 - val_loss: 0.0273 - val_accuracy: 0.9874\n",
            "Epoch 5/15\n",
            "65/65 [==============================] - 6s 90ms/step - loss: 0.0020 - accuracy: 1.0000 - val_loss: 0.0273 - val_accuracy: 0.9874\n",
            "Epoch 6/15\n",
            "65/65 [==============================] - 8s 121ms/step - loss: 0.0012 - accuracy: 1.0000 - val_loss: 0.0275 - val_accuracy: 0.9884\n",
            "Epoch 7/15\n",
            "65/65 [==============================] - 6s 95ms/step - loss: 6.8308e-04 - accuracy: 1.0000 - val_loss: 0.0277 - val_accuracy: 0.9874\n",
            "Epoch 8/15\n",
            "65/65 [==============================] - 8s 122ms/step - loss: 6.4831e-04 - accuracy: 1.0000 - val_loss: 0.0276 - val_accuracy: 0.9894\n",
            "Epoch 9/15\n",
            "65/65 [==============================] - 6s 92ms/step - loss: 4.4294e-04 - accuracy: 1.0000 - val_loss: 0.0282 - val_accuracy: 0.9894\n",
            "Epoch 10/15\n",
            "65/65 [==============================] - 8s 119ms/step - loss: 3.8842e-04 - accuracy: 1.0000 - val_loss: 0.0287 - val_accuracy: 0.9884\n",
            "Epoch 11/15\n",
            "65/65 [==============================] - 6s 93ms/step - loss: 2.9428e-04 - accuracy: 1.0000 - val_loss: 0.0292 - val_accuracy: 0.9894\n",
            "Epoch 12/15\n",
            "65/65 [==============================] - 8s 119ms/step - loss: 2.7544e-04 - accuracy: 1.0000 - val_loss: 0.0295 - val_accuracy: 0.9894\n",
            "Epoch 13/15\n",
            "65/65 [==============================] - 6s 93ms/step - loss: 3.2158e-04 - accuracy: 1.0000 - val_loss: 0.0296 - val_accuracy: 0.9903\n",
            "Epoch 14/15\n",
            "65/65 [==============================] - 8s 120ms/step - loss: 1.9902e-04 - accuracy: 1.0000 - val_loss: 0.0300 - val_accuracy: 0.9903\n",
            "Epoch 15/15\n",
            "65/65 [==============================] - 6s 98ms/step - loss: 2.3429e-04 - accuracy: 1.0000 - val_loss: 0.0322 - val_accuracy: 0.9874\n"
          ]
        }
      ]
    },
    {
      "cell_type": "code",
      "source": [
        "with warnings.catch_warnings():\n",
        "    warnings.filterwarnings(\"ignore\", category=FutureWarning)"
      ],
      "metadata": {
        "id": "rITpDyInbcfx"
      },
      "execution_count": 20,
      "outputs": []
    },
    {
      "cell_type": "markdown",
      "source": [
        "# Evaluating the model"
      ],
      "metadata": {
        "id": "K7ERi-fNcKob"
      }
    },
    {
      "cell_type": "code",
      "source": [
        "y_pred = model.predict(X_test.toarray())\n",
        "import numpy as np\n",
        "y_pred = np.argmax(y_pred, axis=1)"
      ],
      "metadata": {
        "colab": {
          "base_uri": "https://localhost:8080/"
        },
        "id": "vye56w-hbhqy",
        "outputId": "369d3995-bdf1-4e58-9c15-3384afb7098c"
      },
      "execution_count": 21,
      "outputs": [
        {
          "output_type": "stream",
          "name": "stdout",
          "text": [
            "33/33 [==============================] - 1s 16ms/step\n"
          ]
        }
      ]
    },
    {
      "cell_type": "code",
      "source": [
        "accuracy = accuracy_score(y_test, y_pred)"
      ],
      "metadata": {
        "id": "YkinBnKoblI2"
      },
      "execution_count": 22,
      "outputs": []
    },
    {
      "cell_type": "code",
      "source": [
        "conf_matrix = confusion_matrix(y_test, y_pred)"
      ],
      "metadata": {
        "id": "JsTsZeodblLP"
      },
      "execution_count": 23,
      "outputs": []
    },
    {
      "cell_type": "code",
      "source": [
        "class_report = classification_report(y_test, y_pred, zero_division=1)"
      ],
      "metadata": {
        "id": "LTjV_16HblNa"
      },
      "execution_count": 24,
      "outputs": []
    },
    {
      "cell_type": "code",
      "source": [
        "print(f'Accuracy: {accuracy*100:.2f}%')"
      ],
      "metadata": {
        "id": "B0aivg3gblPj",
        "colab": {
          "base_uri": "https://localhost:8080/"
        },
        "outputId": "6d42396d-c674-4a10-d777-40b5b77db6e8"
      },
      "execution_count": 25,
      "outputs": [
        {
          "output_type": "stream",
          "name": "stdout",
          "text": [
            "Accuracy: 71.69%\n"
          ]
        }
      ]
    },
    {
      "cell_type": "code",
      "source": [
        "print(f'Confusion Matrix:\\n{conf_matrix}')"
      ],
      "metadata": {
        "id": "Z1QELA5oblS-",
        "colab": {
          "base_uri": "https://localhost:8080/"
        },
        "outputId": "70ea90b8-ce1b-4727-a53a-dd546671754b"
      },
      "execution_count": 26,
      "outputs": [
        {
          "output_type": "stream",
          "name": "stdout",
          "text": [
            "Confusion Matrix:\n",
            "[[742   0]\n",
            " [293   0]]\n"
          ]
        }
      ]
    },
    {
      "cell_type": "code",
      "source": [
        "print(f'Classification Report:\\n{class_report}')"
      ],
      "metadata": {
        "id": "q2W6lzJHb787",
        "colab": {
          "base_uri": "https://localhost:8080/"
        },
        "outputId": "bff3ee4a-ee3f-4c88-f37e-8be32e4efcda"
      },
      "execution_count": 27,
      "outputs": [
        {
          "output_type": "stream",
          "name": "stdout",
          "text": [
            "Classification Report:\n",
            "              precision    recall  f1-score   support\n",
            "\n",
            "           0       0.72      1.00      0.84       742\n",
            "           1       1.00      0.00      0.00       293\n",
            "\n",
            "    accuracy                           0.72      1035\n",
            "   macro avg       0.86      0.50      0.42      1035\n",
            "weighted avg       0.80      0.72      0.60      1035\n",
            "\n"
          ]
        }
      ]
    }
  ]
}